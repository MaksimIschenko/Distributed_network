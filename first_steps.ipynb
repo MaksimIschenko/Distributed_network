{
 "cells": [
  {
   "cell_type": "markdown",
   "source": [
    "### 1. Importing the core module"
   ],
   "metadata": {
    "collapsed": false
   },
   "id": "7d77c82d2cb3d433"
  },
  {
   "cell_type": "code",
   "outputs": [],
   "source": [
    "from core import *"
   ],
   "metadata": {
    "collapsed": false,
    "ExecuteTime": {
     "end_time": "2024-03-04T18:22:43.845507Z",
     "start_time": "2024-03-04T18:22:43.833076Z"
    }
   },
   "id": "b20a1cac62ee50b5",
   "execution_count": 1
  },
  {
   "cell_type": "markdown",
   "source": [
    "### 2. Creating a sender and a reciever object"
   ],
   "metadata": {
    "collapsed": false
   },
   "id": "b6368a6fefab27e6"
  },
  {
   "cell_type": "code",
   "outputs": [],
   "source": [
    "sender_0 = Sender(identifier=0)\n",
    "sender_1 = Sender(identifier=1)\n",
    "sender_2 = Sender(identifier=2)\n",
    "reciever_0 = Receiver(identifier=10)\n",
    "reciever_1 = Receiver(identifier=11)\n",
    "reciever_2 = Receiver(identifier=12)"
   ],
   "metadata": {
    "collapsed": false,
    "ExecuteTime": {
     "end_time": "2024-03-04T18:22:43.854601Z",
     "start_time": "2024-03-04T18:22:43.848288Z"
    }
   },
   "id": "2bfc64711879d67d",
   "execution_count": 2
  },
  {
   "cell_type": "code",
   "outputs": [],
   "source": [
    "senders = [sender_0, sender_1, sender_2]\n",
    "recievers = [reciever_0, reciever_1, reciever_2]"
   ],
   "metadata": {
    "collapsed": false,
    "ExecuteTime": {
     "end_time": "2024-03-04T18:22:43.861746Z",
     "start_time": "2024-03-04T18:22:43.857070Z"
    }
   },
   "id": "5a29355a2f657f62",
   "execution_count": 3
  },
  {
   "cell_type": "markdown",
   "source": [
    "### 3. Connecting the senders and the recievers"
   ],
   "metadata": {
    "collapsed": false
   },
   "id": "682d68ffa5965320"
  },
  {
   "cell_type": "code",
   "outputs": [
    {
     "name": "stdout",
     "output_type": "stream",
     "text": [
      "Peers of the sender_0:\n",
      "Node id=10, Role=receiver\n",
      "Node id=11, Role=receiver\n",
      "Node id=12, Role=receiver\n",
      "\n",
      "Peers of the reciever:\n",
      "Node id=0, Role=sender\n",
      "Node id=1, Role=sender\n",
      "Node id=2, Role=sender\n"
     ]
    }
   ],
   "source": [
    "for sender in senders:\n",
    "    for reciever in recievers:\n",
    "        sender.connect(reciever)\n",
    "\n",
    "# Show peer connections of the sender\n",
    "print('Peers of the sender_0:')\n",
    "for peer in sender_0.peers:\n",
    "    print(peer)\n",
    "    \n",
    "    \n",
    "# Show peer connections of the reciever\n",
    "print('\\nPeers of the reciever:')\n",
    "for peer in reciever_0.peers:\n",
    "    print(peer)"
   ],
   "metadata": {
    "collapsed": false,
    "ExecuteTime": {
     "end_time": "2024-03-04T18:22:43.871574Z",
     "start_time": "2024-03-04T18:22:43.865138Z"
    }
   },
   "id": "98e5aabaed97fd9a",
   "execution_count": 4
  },
  {
   "cell_type": "markdown",
   "source": [
    "### 4. Sending a message from the sender 0 to the all recievers in network"
   ],
   "metadata": {
    "collapsed": false
   },
   "id": "3c685320050b85b"
  },
  {
   "cell_type": "code",
   "outputs": [
    {
     "name": "stdout",
     "output_type": "stream",
     "text": [
      "Receiver id=10 received a message from sender id=0: Hello from Node id=0, Role=sender!\n",
      "Receiver id=11 received a message from sender id=0: Hello from Node id=0, Role=sender!\n",
      "Receiver id=12 received a message from sender id=0: Hello from Node id=0, Role=sender!\n"
     ]
    }
   ],
   "source": [
    "sender_0.send_message(f'Hello from {str(sender_0)}!', sender=sender_0)"
   ],
   "metadata": {
    "collapsed": false,
    "ExecuteTime": {
     "end_time": "2024-03-04T18:22:43.878960Z",
     "start_time": "2024-03-04T18:22:43.874055Z"
    }
   },
   "id": "f950559cbe1cb6b6",
   "execution_count": 5
  }
 ],
 "metadata": {
  "kernelspec": {
   "display_name": "Python 3",
   "language": "python",
   "name": "python3"
  },
  "language_info": {
   "codemirror_mode": {
    "name": "ipython",
    "version": 2
   },
   "file_extension": ".py",
   "mimetype": "text/x-python",
   "name": "python",
   "nbconvert_exporter": "python",
   "pygments_lexer": "ipython2",
   "version": "2.7.6"
  }
 },
 "nbformat": 4,
 "nbformat_minor": 5
}
